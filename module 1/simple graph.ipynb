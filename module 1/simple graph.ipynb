{
 "cells": [
  {
   "cell_type": "code",
   "execution_count": 28,
   "metadata": {},
   "outputs": [],
   "source": [
    "from typing import TypedDict, Literal\n",
    "from langgraph.graph import StateGraph, START, END, Graph\n",
    "import random"
   ]
  },
  {
   "cell_type": "markdown",
   "metadata": {},
   "source": [
    "Define State and Nodes"
   ]
  },
  {
   "cell_type": "code",
   "execution_count": 29,
   "metadata": {},
   "outputs": [],
   "source": [
    "# State as a typed dict class\n",
    "class State(TypedDict):\n",
    "    graph_state: str"
   ]
  },
  {
   "cell_type": "code",
   "execution_count": 30,
   "metadata": {},
   "outputs": [],
   "source": [
    "# nodes as functions\n",
    "def node1(state):\n",
    "    return {\"graph_state\" : state['graph_state'] + \"I am \"}\n",
    "\n",
    "def node2(state):\n",
    "    return {\"graph_state\" : state['graph_state'] + \"a \"}\n",
    "\n",
    "def node2neg(state):\n",
    "    return {\"graph_state\" : state['graph_state'] + \"not a \"}\n",
    "\n",
    "def node3(state):\n",
    "    return {\"graph_state\" : state['graph_state'] + \"stupid person.\"}"
   ]
  },
  {
   "cell_type": "markdown",
   "metadata": {},
   "source": [
    "Define conditional edge"
   ]
  },
  {
   "cell_type": "code",
   "execution_count": 31,
   "metadata": {},
   "outputs": [],
   "source": [
    "def decide_mood(state) -> Literal[\"node2\", \"node2neg\"]:\n",
    "    print(\"user input\", state['graph_state'])\n",
    "\n",
    "    if random.random() > 0.5:\n",
    "        return \"node2\"\n",
    "    else:\n",
    "        return \"node2neg\"\n",
    "\n",
    "    "
   ]
  },
  {
   "cell_type": "markdown",
   "metadata": {},
   "source": [
    "Build graph"
   ]
  },
  {
   "cell_type": "code",
   "execution_count": 32,
   "metadata": {},
   "outputs": [
    {
     "data": {
      "text/plain": [
       "<langgraph.graph.state.StateGraph at 0xe437702381d0>"
      ]
     },
     "execution_count": 32,
     "metadata": {},
     "output_type": "execute_result"
    }
   ],
   "source": [
    "# define empty state graph\n",
    "final_graph = StateGraph(State)\n",
    "\n",
    "# add nodes which are functions \n",
    "final_graph.add_node(\"node1\", node1)\n",
    "final_graph.add_node(\"node2\", node2)\n",
    "final_graph.add_node(\"node2neg\", node2neg)\n",
    "final_graph.add_node(\"node3\", node3)\n",
    "\n",
    "# add edges \n",
    "final_graph.add_edge(START, \"node1\")\n",
    "final_graph.add_conditional_edges(\"node1\", decide_mood)\n",
    "final_graph.add_edge(\"node2\", \"node3\")\n",
    "final_graph.add_edge(\"node2neg\", \"node3\")\n",
    "final_graph.add_edge(\"node3\", END)"
   ]
  },
  {
   "cell_type": "code",
   "execution_count": 42,
   "metadata": {},
   "outputs": [
    {
     "data": {
      "image/png": "[encoded data removed]",
      "text/plain": [
       "<IPython.core.display.Image object>"
      ]
     },
     "metadata": {},
     "output_type": "display_data"
    }
   ],
   "source": [
    "from IPython.display import Image, display\n",
    "\n",
    "# finally compile the graph \n",
    "graph = final_graph.compile()\n",
    "display(Image(graph.get_graph().draw_mermaid_png()))"
   ]
  },
  {
   "cell_type": "code",
   "execution_count": 51,
   "metadata": {},
   "outputs": [
    {
     "name": "stdout",
     "output_type": "stream",
     "text": [
      "user input Hi, this is Lance. I am \n"
     ]
    },
    {
     "data": {
      "text/plain": [
       "{'graph_state': 'Hi, this is Lance. I am not a stupid person.'}"
      ]
     },
     "execution_count": 51,
     "metadata": {},
     "output_type": "execute_result"
    }
   ],
   "source": [
    "graph.invoke({\"graph_state\" : \"Hi, this is Lance. \"})"
   ]
  },
  {
   "cell_type": "code",
   "execution_count": null,
   "metadata": {},
   "outputs": [],
   "source": []
  }
 ],
 "metadata": {
  "kernelspec": {
   "display_name": "base",
   "language": "python",
   "name": "python3"
  },
  "language_info": {
   "codemirror_mode": {
    "name": "ipython",
    "version": 3
   },
   "file_extension": ".py",
   "mimetype": "text/x-python",
   "name": "python",
   "nbconvert_exporter": "python",
   "pygments_lexer": "ipython3",
   "version": "3.12.8"
  }
 },
 "nbformat": 4,
 "nbformat_minor": 2
}
