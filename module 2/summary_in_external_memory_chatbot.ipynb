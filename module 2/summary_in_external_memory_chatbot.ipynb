{
 "cells": [
  {
   "cell_type": "code",
   "execution_count": 29,
   "metadata": {},
   "outputs": [],
   "source": [
    "import os, getpass\n",
    "\n",
    "def _set_env(var: str):\n",
    "    if not os.environ.get(var):\n",
    "        os.environ[var] = getpass.getpass(f\"{var}: \")\n",
    "\n",
    "_set_env(\"OPENAI_API_KEY\")"
   ]
  },
  {
   "cell_type": "code",
   "execution_count": 30,
   "metadata": {},
   "outputs": [],
   "source": [
    "from langchain_openai import ChatOpenAI\n",
    "\n",
    "llm = ChatOpenAI(model=\"gpt-3.5-turbo-0125\", temperature=0)\n",
    "\n"
   ]
  },
  {
   "cell_type": "code",
   "execution_count": 31,
   "metadata": {},
   "outputs": [
    {
     "name": "stdout",
     "output_type": "stream",
     "text": [
      "Connected to existing database at state_db/chatbot.db\n"
     ]
    }
   ],
   "source": [
    "import sqlite3\n",
    "import os\n",
    "\n",
    "db_path = \"state_db/chatbot.db\"\n",
    "\n",
    "# Check if the database file exists\n",
    "if not os.path.exists(db_path):\n",
    "  # If it doesn't exist, create a new database file\n",
    "  conn = sqlite3.connect(db_path, check_same_thread=False)\n",
    "  print(f\"New database created at {db_path}\")\n",
    "else:\n",
    "  # If it exists, connect to the existing database\n",
    "  conn = sqlite3.connect(db_path, check_same_thread=False)\n",
    "  print(f\"Connected to existing database at {db_path}\")\n"
   ]
  },
  {
   "cell_type": "code",
   "execution_count": 32,
   "metadata": {},
   "outputs": [],
   "source": [
    "# Here is our checkpointer \n",
    "from langgraph.checkpoint.sqlite import SqliteSaver\n",
    "memory = SqliteSaver(conn)\n"
   ]
  },
  {
   "cell_type": "code",
   "execution_count": 36,
   "metadata": {},
   "outputs": [],
   "source": [
    "from langchain_core.messages import SystemMessage, HumanMessage, RemoveMessage\n",
    "from langgraph.graph import START, StateGraph, END\n",
    "from langgraph.graph import MessagesState\n",
    "\n",
    "\n",
    "class State(MessagesState):\n",
    "    summary: str\n",
    "\n",
    "\n",
    "# Define the logic to call the model\n",
    "def call_model(state: State):\n",
    "    \n",
    "    summary = state.get(\"summary\", \"\")\n",
    "\n",
    "    if summary:\n",
    "        messages = [SystemMessage(content = f\"The summary of the chat so far is:, {summary}\")] + state[\"messages\"]\n",
    "    else:\n",
    "        messages = state['messages']\n",
    "\n",
    "    messages = llm.invoke(messages)\n",
    "    return {\"messages\" : messages}\n",
    "\n",
    "def summarize(state: State):\n",
    "\n",
    "    summary = state.get(\"summary\", \"\")\n",
    "\n",
    "    if summary: \n",
    "        prompt = f\"Here is the summary of the conversation so far: {summary}\\n extend the summary by using the current chat\"\n",
    "        messages = state[\"messages\"] + [HumanMessage(content=prompt)]\n",
    "        response = llm.invoke(messages) \n",
    "\n",
    "    else:\n",
    "        prompt = \"Create a summary of the conversation so far\"\n",
    "        messages = state[\"messages\"] + [HumanMessage(content=prompt)]\n",
    "        response = llm.invoke(messages)\n",
    "    print(\"#####summary executed#####\")\n",
    "    messages_trimmed = [RemoveMessage(id = m.id) for m in messages[:-2]]\n",
    "    \n",
    "    return {\"messages\" : messages_trimmed, \"summary\" : response.content}\n",
    "\n",
    "def decide_to_summarize(state: State):\n",
    "    \"\"\"Return the next node to execute.\"\"\"\n",
    "    messages = state[\"messages\"]\n",
    "\n",
    "    if len(messages) > 3:\n",
    "        return \"summarize\"\n",
    "    else:\n",
    "        return END\n",
    "\n",
    "\n",
    "\n"
   ]
  },
  {
   "cell_type": "code",
   "execution_count": 37,
   "metadata": {},
   "outputs": [
    {
     "data": {
      "image/png": "[encoded data removed]",
      "text/plain": [
       "<IPython.core.display.Image object>"
      ]
     },
     "metadata": {},
     "output_type": "display_data"
    }
   ],
   "source": [
    "from IPython.display import Image, display\n",
    "graph_builder = StateGraph(State)\n",
    "\n",
    "graph_builder.add_node(\"call_model\", call_model )\n",
    "graph_builder.add_node(\"summarize\", summarize )\n",
    "\n",
    "graph_builder.add_edge(START, \"call_model\")\n",
    "graph_builder.add_conditional_edges(\"call_model\", decide_to_summarize )\n",
    "graph_builder.add_edge(\"summarize\", END)\n",
    "\n",
    "graph = graph_builder.compile(checkpointer = memory)\n",
    "\n",
    "display(Image(graph.get_graph().draw_mermaid_png()))"
   ]
  },
  {
   "cell_type": "code",
   "execution_count": 38,
   "metadata": {},
   "outputs": [
    {
     "name": "stdout",
     "output_type": "stream",
     "text": [
      "#####summary executed#####\n",
      "==================================\u001b[1m Ai Message \u001b[0m==================================\n",
      "\n",
      "Hello Arun! It's nice to meet you. How can I assist you today?\n",
      "================================\u001b[1m Human Message \u001b[0m=================================\n",
      "\n",
      "what's my name?\n",
      "==================================\u001b[1m Ai Message \u001b[0m==================================\n",
      "\n",
      "Your name is Arun.\n",
      "#####summary executed#####\n",
      "==================================\u001b[1m Ai Message \u001b[0m==================================\n",
      "\n",
      "That's great to hear! The Deccan Chargers are a popular cricket team in the Indian Premier League. Is there anything specific you like about the team?\n"
     ]
    }
   ],
   "source": [
    "config = {\"configurable\": {\"thread_id\": \"1\"}}\n",
    "# Start conversation\n",
    "input_message = HumanMessage(content=\"hi! I'm Arun\")\n",
    "output = graph.invoke({\"messages\": [input_message]}, config) \n",
    "for m in output['messages'][-2:]:\n",
    "    m.pretty_print()\n",
    "\n",
    "input_message = HumanMessage(content=\"what's my name?\")\n",
    "output = graph.invoke({\"messages\": [input_message]}, config) \n",
    "for m in output['messages'][-2:]:\n",
    "    m.pretty_print()\n",
    "\n",
    "input_message = HumanMessage(content=\"i like the Deccan chargers!\")\n",
    "output = graph.invoke({\"messages\": [input_message]}, config) \n",
    "for m in output['messages'][-2:]:\n",
    "    m.pretty_print()"
   ]
  },
  {
   "cell_type": "code",
   "execution_count": 47,
   "metadata": {},
   "outputs": [
    {
     "name": "stdout",
     "output_type": "stream",
     "text": [
      "Arun, the user, expressed his fondness for the Deccan Chargers cricket team in the Indian Premier League. The AI acknowledged his preference and shared information about the team. Arun then confirmed his name as Arun and continued the conversation.\n"
     ]
    }
   ],
   "source": [
    "graph_state = graph.get_state(config)\n",
    "print(graph_state.values['summary'])"
   ]
  },
  {
   "cell_type": "code",
   "execution_count": null,
   "metadata": {},
   "outputs": [],
   "source": []
  },
  {
   "cell_type": "code",
   "execution_count": 48,
   "metadata": {},
   "outputs": [],
   "source": [
    "conn.close()\n"
   ]
  },
  {
   "cell_type": "code",
   "execution_count": null,
   "metadata": {},
   "outputs": [],
   "source": []
  }
 ],
 "metadata": {
  "kernelspec": {
   "display_name": "base",
   "language": "python",
   "name": "python3"
  },
  "language_info": {
   "codemirror_mode": {
    "name": "ipython",
    "version": 3
   },
   "file_extension": ".py",
   "mimetype": "text/x-python",
   "name": "python",
   "nbconvert_exporter": "python",
   "pygments_lexer": "ipython3",
   "version": "3.12.8"
  }
 },
 "nbformat": 4,
 "nbformat_minor": 2
}
