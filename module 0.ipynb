{
 "cells": [
  {
   "cell_type": "code",
   "execution_count": 2,
   "metadata": {},
   "outputs": [],
   "source": [
    "import os, getpass\n",
    "\n",
    "def _set_env(var: str):\n",
    "    if not os.environ.get(var):\n",
    "        os.environ[var] = getpass.getpass(f\"{var}: \")\n",
    "\n",
    "_set_env(\"OPENAI_API_KEY\")"
   ]
  },
  {
   "cell_type": "code",
   "execution_count": 10,
   "metadata": {},
   "outputs": [],
   "source": [
    "from langchain_openai import ChatOpenAI\n",
    "gpt4o_chat = ChatOpenAI(model=\"gpt-4o\", temperature=0)\n",
    "gpt35_chat = ChatOpenAI(model=\"gpt-3.5-turbo-0125\", temperature=0)"
   ]
  },
  {
   "cell_type": "code",
   "execution_count": 14,
   "metadata": {},
   "outputs": [
    {
     "name": "stdout",
     "output_type": "stream",
     "text": [
      "content='One of the hardest problems in physics is the unification of general relativity and quantum mechanics, also known as the theory of everything. This involves reconciling the two fundamental theories of physics that describe the behavior of the universe at different scales - general relativity, which explains the force of gravity at large scales, and quantum mechanics, which describes the behavior of particles at the smallest scales. Despite decades of research, scientists have yet to develop a single theory that can successfully merge these two theories into a coherent framework.' additional_kwargs={'refusal': None} response_metadata={'token_usage': {'completion_tokens': 103, 'prompt_tokens': 15, 'total_tokens': 118, 'completion_tokens_details': {'accepted_prediction_tokens': 0, 'audio_tokens': 0, 'reasoning_tokens': 0, 'rejected_prediction_tokens': 0}, 'prompt_tokens_details': {'audio_tokens': 0, 'cached_tokens': 0}}, 'model_name': 'gpt-3.5-turbo-0125', 'system_fingerprint': None, 'finish_reason': 'stop', 'logprobs': None} id='run-b2e73f73-ae1b-4a28-9fb0-7ca5ac151358-0' usage_metadata={'input_tokens': 15, 'output_tokens': 103, 'total_tokens': 118, 'input_token_details': {'audio': 0, 'cache_read': 0}, 'output_token_details': {'audio': 0, 'reasoning': 0}}\n",
      "content='The question of what constitutes the \"hardest\" problem in physics is subjective and can vary depending on one\\'s perspective and area of focus. However, several problems are often highlighted as particularly challenging and fundamental:\\n\\n1. **Unification of General Relativity and Quantum Mechanics**: One of the most significant challenges in physics is developing a theory that unifies general relativity, which describes gravity and the large-scale structure of the universe, with quantum mechanics, which explains the behavior of particles at the smallest scales. This is often referred to as the quest for a theory of quantum gravity, with string theory and loop quantum gravity being two prominent approaches.\\n\\n2. **Nature of Dark Matter and Dark Energy**: Observations suggest that about 95% of the universe is composed of dark matter and dark energy, yet their true nature remains unknown. Dark matter is thought to account for about 27% of the universe and affects the motion of galaxies, while dark energy, making up about 68%, is believed to be responsible for the accelerated expansion of the universe.\\n\\n3. **Understanding the Big Bang and the Origin of the Universe**: While the Big Bang theory describes the expansion of the universe from an extremely hot and dense state, the exact conditions and mechanisms at the very beginning remain unclear. Questions about what preceded the Big Bang or how the initial conditions were set are still open.\\n\\n4. **The Problem of Time in Quantum Gravity**: In the context of quantum gravity, the nature of time becomes problematic. In general relativity, time is a dynamic quantity that is affected by gravity, while in quantum mechanics, time is a fixed background parameter. Reconciling these views is a major challenge.\\n\\n5. **The Measurement Problem in Quantum Mechanics**: The measurement problem involves understanding how and why the collapse of the quantum wave function occurs, leading to definite outcomes in measurements. This problem is central to the interpretation of quantum mechanics and has led to various interpretations, such as the Copenhagen interpretation, many-worlds interpretation, and others.\\n\\n6. **The Hierarchy Problem**: This problem concerns the question of why gravity is so much weaker than the other fundamental forces. It is related to the large difference between the electroweak scale and the Planck scale, and it challenges our understanding of fundamental physics.\\n\\nThese problems are interconnected and addressing them often requires new theoretical frameworks, experimental techniques, and interdisciplinary approaches. Each represents a frontier in our understanding of the universe.' additional_kwargs={'refusal': None} response_metadata={'token_usage': {'completion_tokens': 492, 'prompt_tokens': 15, 'total_tokens': 507, 'completion_tokens_details': {'accepted_prediction_tokens': 0, 'audio_tokens': 0, 'reasoning_tokens': 0, 'rejected_prediction_tokens': 0}, 'prompt_tokens_details': {'audio_tokens': 0, 'cached_tokens': 0}}, 'model_name': 'gpt-4o-2024-08-06', 'system_fingerprint': 'fp_d28bcae782', 'finish_reason': 'stop', 'logprobs': None} id='run-7d936b47-1119-48b2-b34b-f9266ff732b4-0' usage_metadata={'input_tokens': 15, 'output_tokens': 492, 'total_tokens': 507, 'input_token_details': {'audio': 0, 'cache_read': 0}, 'output_token_details': {'audio': 0, 'reasoning': 0}}\n"
     ]
    }
   ],
   "source": [
    "from langchain_core.messages import HumanMessage\n",
    "\n",
    "# Create a message\n",
    "msg = HumanMessage(content=\"What is the hardest problem in physics?\", system_message=\"Analyze and think deeper\")\n",
    "\n",
    "# Message list\n",
    "messages = [msg]\n",
    "\n",
    "# Invoke the model with a list of messages \n",
    "print(gpt35_chat.invoke(messages))\n",
    "print(gpt4o_chat.invoke(messages))"
   ]
  },
  {
   "cell_type": "code",
   "execution_count": 17,
   "metadata": {},
   "outputs": [
    {
     "data": {
      "text/plain": [
       "AIMessage(content='Hello! How can I assist you today?', additional_kwargs={'refusal': None}, response_metadata={'token_usage': {'completion_tokens': 10, 'prompt_tokens': 9, 'total_tokens': 19, 'completion_tokens_details': {'accepted_prediction_tokens': 0, 'audio_tokens': 0, 'reasoning_tokens': 0, 'rejected_prediction_tokens': 0}, 'prompt_tokens_details': {'audio_tokens': 0, 'cached_tokens': 0}}, 'model_name': 'gpt-3.5-turbo-0125', 'system_fingerprint': None, 'finish_reason': 'stop', 'logprobs': None}, id='run-fe60e13a-a9d9-494f-bffe-69548d3aba6b-0', usage_metadata={'input_tokens': 9, 'output_tokens': 10, 'total_tokens': 19, 'input_token_details': {'audio': 0, 'cache_read': 0}, 'output_token_details': {'audio': 0, 'reasoning': 0}})"
      ]
     },
     "execution_count": 17,
     "metadata": {},
     "output_type": "execute_result"
    }
   ],
   "source": [
    "gpt35_chat.invoke(\"Hello world\")"
   ]
  },
  {
   "cell_type": "code",
   "execution_count": 18,
   "metadata": {},
   "outputs": [],
   "source": [
    "_set_env(\"TAVILY_API_KEY\")"
   ]
  },
  {
   "cell_type": "code",
   "execution_count": 19,
   "metadata": {},
   "outputs": [],
   "source": [
    "from langchain_community.tools.tavily_search import TavilySearchResults\n",
    "tavily_search = TavilySearchResults(max_results=3)\n",
    "search_docs = tavily_search.invoke(\"What is LangGraph?\")"
   ]
  },
  {
   "cell_type": "code",
   "execution_count": 22,
   "metadata": {},
   "outputs": [
    {
     "data": {
      "text/plain": [
       "'Sep 4, 2024 ... Presenting LangGraph, a revolutionary library that aims to revolutionize AI agent building and runtime execution.'"
      ]
     },
     "execution_count": 22,
     "metadata": {},
     "output_type": "execute_result"
    }
   ],
   "source": [
    "search_docs[1]['content']"
   ]
  }
 ],
 "metadata": {
  "kernelspec": {
   "display_name": "base",
   "language": "python",
   "name": "python3"
  },
  "language_info": {
   "codemirror_mode": {
    "name": "ipython",
    "version": 3
   },
   "file_extension": ".py",
   "mimetype": "text/x-python",
   "name": "python",
   "nbconvert_exporter": "python",
   "pygments_lexer": "ipython3",
   "version": "3.12.8"
  }
 },
 "nbformat": 4,
 "nbformat_minor": 2
}
